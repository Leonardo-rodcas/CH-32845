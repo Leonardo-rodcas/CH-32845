{
 "cells": [
  {
   "attachments": {},
   "cell_type": "markdown",
   "metadata": {},
   "source": [
    "## Funciones \n"
   ]
  },
  {
   "attachments": {},
   "cell_type": "markdown",
   "metadata": {},
   "source": [
    "\n"
   ]
  },
  {
   "cell_type": "code",
   "execution_count": 39,
   "metadata": {},
   "outputs": [],
   "source": [
    "a = 20 \n",
    "b = 10\n",
    "c = 30 \n",
    "lista_nums = [a,b,c]"
   ]
  },
  {
   "cell_type": "code",
   "execution_count": 47,
   "metadata": {},
   "outputs": [
    {
     "data": {
      "text/plain": [
       "20"
      ]
     },
     "execution_count": 47,
     "metadata": {},
     "output_type": "execute_result"
    }
   ],
   "source": [
    "\n",
    "def max_difference_1(a, b, c):\n",
    "    max_dif = 0\n",
    "    lista_nums = [a,b,c]\n",
    "    for n1 in lista_nums:\n",
    "        for n2 in lista_nums[1:]:\n",
    "            if max_dif < (abs(n1- n2)):\n",
    "                max_dif = abs(n1- n2)\n",
    "    return max_dif\n",
    "\n",
    "\n",
    "least_difference(a, b, c) \n",
    "\n"
   ]
  },
  {
   "cell_type": "code",
   "execution_count": 48,
   "metadata": {},
   "outputs": [
    {
     "data": {
      "text/plain": [
       "20"
      ]
     },
     "execution_count": 48,
     "metadata": {},
     "output_type": "execute_result"
    }
   ],
   "source": [
    "def max_difference_2(a, b, c):\n",
    "    max_dif = 0 \n",
    "    dif1 = abs(a-b)\n",
    "    dif2 = abs(a-c)\n",
    "    dif3 = abs(c-b)\n",
    "    if dif1 > max_dif:\n",
    "        max_dif = dif1\n",
    "    if dif2 > max_dif:\n",
    "        max_dif = dif2\n",
    "    if dif3 > max_dif: \n",
    "        max_dif = dif3\n",
    "    return max_dif \n",
    "\n",
    "\n",
    "least_difference_2(a, b, c)\n",
    "\n",
    "\n",
    "\n",
    "\n"
   ]
  },
  {
   "cell_type": "code",
   "execution_count": 51,
   "metadata": {},
   "outputs": [],
   "source": [
    "def max_difference_3(a, b, c):\n",
    "    lista_nums = [a,b,c]\n",
    "    min_v = min(lista_nums) \n",
    "    max_v = max(lista_nums)\n",
    "    return max_v - min_v\n",
    "\n"
   ]
  },
  {
   "cell_type": "code",
   "execution_count": 53,
   "metadata": {},
   "outputs": [],
   "source": [
    "lista2 =  [1,4,6,3,7,14]"
   ]
  },
  {
   "cell_type": "code",
   "execution_count": 56,
   "metadata": {},
   "outputs": [
    {
     "data": {
      "text/plain": [
       "[1, 3, 4, 6, 7, 14]"
      ]
     },
     "execution_count": 56,
     "metadata": {},
     "output_type": "execute_result"
    }
   ],
   "source": [
    "lista_orderana = sorted(lista2)\n"
   ]
  },
  {
   "cell_type": "code",
   "execution_count": null,
   "metadata": {},
   "outputs": [],
   "source": []
  }
 ],
 "metadata": {
  "kernelspec": {
   "display_name": "Python 3",
   "language": "python",
   "name": "python3"
  },
  "language_info": {
   "codemirror_mode": {
    "name": "ipython",
    "version": 3
   },
   "file_extension": ".py",
   "mimetype": "text/x-python",
   "name": "python",
   "nbconvert_exporter": "python",
   "pygments_lexer": "ipython3",
   "version": "3.10.4 (main, Dec 19 2022, 20:24:16) [GCC 9.4.0]"
  },
  "orig_nbformat": 4,
  "vscode": {
   "interpreter": {
    "hash": "3ad933181bd8a04b432d3370b9dc3b0662ad032c4dfaa4e4f1596c548f763858"
   }
  }
 },
 "nbformat": 4,
 "nbformat_minor": 2
}
